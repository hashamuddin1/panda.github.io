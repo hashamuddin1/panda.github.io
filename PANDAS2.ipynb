{
  "nbformat": 4,
  "nbformat_minor": 0,
  "metadata": {
    "colab": {
      "name": "PANDAS2.ipynb",
      "provenance": [],
      "collapsed_sections": [],
      "toc_visible": true,
      "authorship_tag": "ABX9TyO0t0vHRleEzphAxDwRjyvp",
      "include_colab_link": true
    },
    "kernelspec": {
      "name": "python3",
      "display_name": "Python 3"
    },
    "language_info": {
      "name": "python"
    }
  },
  "cells": [
    {
      "cell_type": "markdown",
      "metadata": {
        "id": "view-in-github",
        "colab_type": "text"
      },
      "source": [
        "<a href=\"https://colab.research.google.com/github/hashamuddin1/panda.github.io/blob/main/PANDAS2.ipynb\" target=\"_parent\"><img src=\"https://colab.research.google.com/assets/colab-badge.svg\" alt=\"Open In Colab\"/></a>"
      ]
    },
    {
      "cell_type": "markdown",
      "metadata": {
        "id": "EiCgzyGjZLRJ"
      },
      "source": [
        ""
      ]
    },
    {
      "cell_type": "markdown",
      "metadata": {
        "id": "h4PjmimuZOO_"
      },
      "source": [
        "## **SERIES**"
      ]
    },
    {
      "cell_type": "code",
      "metadata": {
        "colab": {
          "base_uri": "https://localhost:8080/"
        },
        "id": "HlUBIINW_wlP",
        "outputId": "accb7447-23ee-4861-e2bd-5e0b5b0d828f"
      },
      "source": [
        "import pandas as pd\n",
        "#ONE DIMENSIONAL ARRAY IS CALLED \"SERIES\".\n",
        "#MULTI-DIMENSIONAL ARRAY IS CALLED \"DATA -FRAME\".\n",
        "a=pd.Series([\"a\",\"b\",\"c\"])\n",
        "print(a)"
      ],
      "execution_count": null,
      "outputs": [
        {
          "output_type": "stream",
          "text": [
            "0    a\n",
            "1    b\n",
            "2    c\n",
            "dtype: object\n"
          ],
          "name": "stdout"
        }
      ]
    },
    {
      "cell_type": "code",
      "metadata": {
        "colab": {
          "base_uri": "https://localhost:8080/"
        },
        "id": "kCGN9uuJBvEV",
        "outputId": "396e5225-bcae-447e-9421-f40a37e79e4b"
      },
      "source": [
        "b=[\"hasham\",\"azhar\",\"amin\",\"moin\"]\n",
        "c=pd.Series(b)\n",
        "print(c)"
      ],
      "execution_count": null,
      "outputs": [
        {
          "output_type": "stream",
          "text": [
            "0    hasham\n",
            "1     azhar\n",
            "2      amin\n",
            "3      moin\n",
            "dtype: object\n"
          ],
          "name": "stdout"
        }
      ]
    },
    {
      "cell_type": "code",
      "metadata": {
        "colab": {
          "base_uri": "https://localhost:8080/"
        },
        "id": "pRc6ESKsBvXo",
        "outputId": "c15322ba-c1ac-4294-ba76-5987889df1c5"
      },
      "source": [
        "#IF WE WANT TO CHANGE INDEXING.\n",
        "a=pd.Series([\"hasham\",\"azhar\",\"amin\",\"moin\"],index=[\"a\",\"b\",\"c\",\"d\"])\n",
        "print(a)"
      ],
      "execution_count": null,
      "outputs": [
        {
          "output_type": "stream",
          "text": [
            "a    hasham\n",
            "b     azhar\n",
            "c      amin\n",
            "d      moin\n",
            "dtype: object\n"
          ],
          "name": "stdout"
        }
      ]
    },
    {
      "cell_type": "code",
      "metadata": {
        "id": "Ty--FXnHCg53"
      },
      "source": [
        "#WHEN WE WILL GIVE EXTRA INDEX LABEL THEN IT WILL GENERATE AN ERROR\n",
        "a=pd.Series([\"hasham\",\"amin\"],index=[\"a\",\"b\",\"c\"])#ERROR\n",
        "print(a)#ERROR"
      ],
      "execution_count": null,
      "outputs": []
    },
    {
      "cell_type": "code",
      "metadata": {
        "colab": {
          "base_uri": "https://localhost:8080/"
        },
        "id": "C7FlVv8wChCp",
        "outputId": "602f3b04-6058-42cf-eba7-25465a8f6b9e"
      },
      "source": [
        "#WE CAN ALSO GIVE A DICTIONARY...KEYS WILL BECOME INDEX AND VALUES WILL BECOME VALUES.\n",
        "a=pd.Series({\"a\":\"hasham\",\"b\":\"azhar\",\"c\":\"amin\",\"d\":\"moin\"})\n",
        "print(a)"
      ],
      "execution_count": null,
      "outputs": [
        {
          "output_type": "stream",
          "text": [
            "a    hasham\n",
            "b     azhar\n",
            "c      amin\n",
            "d      moin\n",
            "dtype: object\n"
          ],
          "name": "stdout"
        }
      ]
    },
    {
      "cell_type": "code",
      "metadata": {
        "colab": {
          "base_uri": "https://localhost:8080/"
        },
        "id": "WmEi9XTBChJa",
        "outputId": "e7a99c94-7ce5-4bed-a3c0-4cc63de9dc90"
      },
      "source": [
        "#IF WE WANT TO CHANGE THE ORDER OF INDEXING BY GIVE THE DICTIONARY.\n",
        "a=pd.Series({\"a\":\"hasham\",\"b\":\"azhar\",\"c\":\"moin\",\"d\":\"amin\"},index=[\"b\",\"d\",\"a\",\"c\"])\n",
        "print(a)"
      ],
      "execution_count": null,
      "outputs": [
        {
          "output_type": "stream",
          "text": [
            "b     azhar\n",
            "d      amin\n",
            "a    hasham\n",
            "c      moin\n",
            "dtype: object\n"
          ],
          "name": "stdout"
        }
      ]
    },
    {
      "cell_type": "code",
      "metadata": {
        "colab": {
          "base_uri": "https://localhost:8080/"
        },
        "id": "KO-Lx_TwChRn",
        "outputId": "5b77cba8-daa0-4a86-e973-5762b4718671"
      },
      "source": [
        "#WE CAN ALSO GIVE REPEATED INDEX VALUES\n",
        "a=pd.Series({\"a\":\"hasham\",\"b\":\"azhar\",\"c\":\"moin\",\"d\":\"amin\"},index=[\"b\",\"b\",\"a\",\"a\",\"c\",\"d\",\"a\",\"c\"])\n",
        "print(a)"
      ],
      "execution_count": null,
      "outputs": [
        {
          "output_type": "stream",
          "text": [
            "b     azhar\n",
            "b     azhar\n",
            "a    hasham\n",
            "a    hasham\n",
            "c      moin\n",
            "d      amin\n",
            "a    hasham\n",
            "c      moin\n",
            "dtype: object\n"
          ],
          "name": "stdout"
        }
      ]
    },
    {
      "cell_type": "code",
      "metadata": {
        "colab": {
          "base_uri": "https://localhost:8080/"
        },
        "id": "RHDnINXkGF_M",
        "outputId": "18551b0d-ce05-49ea-fcb2-316c2afb54d5"
      },
      "source": [
        "#IF WE WILL GIVE EXTRA INDEX SO NaN WILL BE THE VALUE..NaN MEANS NO VALUE NULL\n",
        "a=pd.Series({\"a\":\"hasham\",\"b\":\"azhar\"},index=[\"a\",\"b\",\"b\",\"a\",\"c\"])\n",
        "print(a)"
      ],
      "execution_count": null,
      "outputs": [
        {
          "output_type": "stream",
          "text": [
            "a    hasham\n",
            "b     azhar\n",
            "b     azhar\n",
            "a    hasham\n",
            "c       NaN\n",
            "dtype: object\n"
          ],
          "name": "stdout"
        }
      ]
    },
    {
      "cell_type": "code",
      "metadata": {
        "id": "bkJq9LAqGGI4",
        "colab": {
          "base_uri": "https://localhost:8080/"
        },
        "outputId": "5fc2d167-dffc-4aaa-c147-a7e644e75a2b"
      },
      "source": [
        "#WE CAN ALSO GIVE LIST,TUPLE AND DICTIONARY AS A VALUE BY USING DICTIONARY\n",
        "a=pd.Series({\"a\":[1,2,3,4],\"b\":[\"a\",\"b\",\"c\"],\"c\":(1,2,3,4),\"d\":{1:2,3:4}})\n",
        "print(a)"
      ],
      "execution_count": null,
      "outputs": [
        {
          "output_type": "stream",
          "text": [
            "a    [1, 2, 3, 4]\n",
            "b       [a, b, c]\n",
            "c    (1, 2, 3, 4)\n",
            "d    {1: 2, 3: 4}\n",
            "dtype: object\n"
          ],
          "name": "stdout"
        }
      ]
    },
    {
      "cell_type": "code",
      "metadata": {
        "id": "ycKVANhmGGUA",
        "colab": {
          "base_uri": "https://localhost:8080/"
        },
        "outputId": "d3b6ca5d-7786-4e1e-ab58-282b64e20dea"
      },
      "source": [
        "#WHEN WE GIVE DUPLICATE KEY SO THEN LATEST KEY'S VALUE WILL BE PRINT\n",
        "a=pd.Series({\"a\":\"hasham\",\"b\":\"azhar\",\"a\":\"amin\"})\n",
        "print(a)"
      ],
      "execution_count": null,
      "outputs": [
        {
          "output_type": "stream",
          "text": [
            "a     amin\n",
            "b    azhar\n",
            "dtype: object\n"
          ],
          "name": "stdout"
        }
      ]
    },
    {
      "cell_type": "code",
      "metadata": {
        "colab": {
          "base_uri": "https://localhost:8080/"
        },
        "id": "B0Lp9r1PqQX2",
        "outputId": "ba8ec49c-3579-4b2c-c5a7-2a99791179f8"
      },
      "source": [
        "#WE CAN ALSO CHANGE THE ORDER OF INDEXING THROUGH DICTIONARY\n",
        "a=pd.Series({\"a\":\"hasham\",\"b\":\"azhar\",\"c\":\"amin\",\"d\":\"moin\"},index=[\"c\",\"d\",\"a\",\"b\",\"e\"])\n",
        "a#HERE e INDEX CONTAIN NO VALUE SO NaN WILLBE RETURN"
      ],
      "execution_count": null,
      "outputs": [
        {
          "output_type": "execute_result",
          "data": {
            "text/plain": [
              "c      amin\n",
              "d      moin\n",
              "a    hasham\n",
              "b     azhar\n",
              "e       NaN\n",
              "dtype: object"
            ]
          },
          "metadata": {
            "tags": []
          },
          "execution_count": 35
        }
      ]
    },
    {
      "cell_type": "code",
      "metadata": {
        "colab": {
          "base_uri": "https://localhost:8080/"
        },
        "id": "1IiM7dLorQB6",
        "outputId": "8de86d5d-8eed-475a-f871-d68bd72dcdf7"
      },
      "source": [
        "#ISNULL:IT WILL PRINT TRUE IN THE INDEX WHICH CONTAIN NaN VALUE\n",
        "print(pd.isnull(a))"
      ],
      "execution_count": null,
      "outputs": [
        {
          "output_type": "stream",
          "text": [
            "c    False\n",
            "d    False\n",
            "a    False\n",
            "b    False\n",
            "e     True\n",
            "dtype: bool\n"
          ],
          "name": "stdout"
        }
      ]
    },
    {
      "cell_type": "code",
      "metadata": {
        "colab": {
          "base_uri": "https://localhost:8080/"
        },
        "id": "bCj0MK_Jr8eo",
        "outputId": "992fcc6b-ede0-4824-b9f4-6d13309bb02b"
      },
      "source": [
        "#NOTNULL:IT WILL PRINT TRUE IN INDEX WHICH DONOT CONTAIN NaN VALUE\n",
        "print(pd.notnull(a))"
      ],
      "execution_count": null,
      "outputs": [
        {
          "output_type": "stream",
          "text": [
            "c     True\n",
            "d     True\n",
            "a     True\n",
            "b     True\n",
            "e    False\n",
            "dtype: bool\n"
          ],
          "name": "stdout"
        }
      ]
    },
    {
      "cell_type": "code",
      "metadata": {
        "colab": {
          "base_uri": "https://localhost:8080/"
        },
        "id": "tJLiZShojlT9",
        "outputId": "b318374f-14a0-4d49-8306-b73c5b4f08f1"
      },
      "source": [
        "#ARITHMETIC OPERATION\n",
        "a=pd.Series([1,2,3,4,5])\n",
        "print(a+5)\n",
        "print(a-5)\n",
        "print(a*5)\n",
        "print(a/5)\n",
        "print(a//5)\n"
      ],
      "execution_count": null,
      "outputs": [
        {
          "output_type": "stream",
          "text": [
            "0     6\n",
            "1     7\n",
            "2     8\n",
            "3     9\n",
            "4    10\n",
            "dtype: int64\n",
            "0   -4\n",
            "1   -3\n",
            "2   -2\n",
            "3   -1\n",
            "4    0\n",
            "dtype: int64\n",
            "0     5\n",
            "1    10\n",
            "2    15\n",
            "3    20\n",
            "4    25\n",
            "dtype: int64\n",
            "0    0.2\n",
            "1    0.4\n",
            "2    0.6\n",
            "3    0.8\n",
            "4    1.0\n",
            "dtype: float64\n",
            "0    0\n",
            "1    0\n",
            "2    0\n",
            "3    0\n",
            "4    1\n",
            "dtype: int64\n"
          ],
          "name": "stdout"
        }
      ]
    },
    {
      "cell_type": "code",
      "metadata": {
        "colab": {
          "base_uri": "https://localhost:8080/"
        },
        "id": "iAn4v5psjlkA",
        "outputId": "6c9eb95f-d298-476e-c3a8-c54d56cb2628"
      },
      "source": [
        "#INDEXING\n",
        "a=pd.Series([\"a\",\"b\",\"c\",\"d\",\"e\"])\n",
        "print(a[0])\n",
        "print(a[3])\n",
        "print(a[1])"
      ],
      "execution_count": null,
      "outputs": [
        {
          "output_type": "stream",
          "text": [
            "a\n",
            "d\n",
            "b\n"
          ],
          "name": "stdout"
        }
      ]
    },
    {
      "cell_type": "code",
      "metadata": {
        "colab": {
          "base_uri": "https://localhost:8080/"
        },
        "id": "UkqUMEnbkSQ4",
        "outputId": "65dec7a3-1fff-4238-da24-a11138a4045e"
      },
      "source": [
        "#WE CAN ALSO DO INDEXING BY INDEXING LABEL\n",
        "a=pd.Series([\"hasham\",\"azhar\",\"amin\",\"moin\"],index=[\"a\",\"b\",\"c\",\"d\"])\n",
        "print(a[\"d\"])\n",
        "print(a[\"c\"])\n",
        "print(a[\"a\"])\n",
        "print(a[\"b\"])"
      ],
      "execution_count": null,
      "outputs": [
        {
          "output_type": "stream",
          "text": [
            "moin\n",
            "amin\n",
            "hasham\n",
            "azhar\n"
          ],
          "name": "stdout"
        }
      ]
    },
    {
      "cell_type": "code",
      "metadata": {
        "colab": {
          "base_uri": "https://localhost:8080/"
        },
        "id": "nZlzLITMmGcV",
        "outputId": "4bde9288-c40f-4b6a-e2ba-279a4a94f8d4"
      },
      "source": [
        "#SLICING\n",
        "a=pd.Series([4,3,6,7,8,1,2])\n",
        "print(a[:2])\n",
        "print(a[2:])\n",
        "print(a[1:4])\n",
        "print(a[1:5:2])"
      ],
      "execution_count": null,
      "outputs": [
        {
          "output_type": "stream",
          "text": [
            "0    4\n",
            "1    3\n",
            "dtype: int64\n",
            "2    6\n",
            "3    7\n",
            "4    8\n",
            "5    1\n",
            "6    2\n",
            "dtype: int64\n",
            "1    3\n",
            "2    6\n",
            "3    7\n",
            "dtype: int64\n",
            "1    3\n",
            "3    7\n",
            "dtype: int64\n"
          ],
          "name": "stdout"
        }
      ]
    },
    {
      "cell_type": "code",
      "metadata": {
        "colab": {
          "base_uri": "https://localhost:8080/"
        },
        "id": "C__MJGEYmGqH",
        "outputId": "8f205587-0461-408e-f1ec-60183eea00ec"
      },
      "source": [
        "#NaN VALUE + ANY VALUE=NaN VALUE\n",
        "#NaN VALUE - ANY VALUE=NaN VALUE\n",
        "#NaN VALUE * ANY VALUE=NaN VALUE\n",
        "#NaN VALUE / ANY VALUE=NaN VALUE\n",
        "#NaN VALUE // ANY VALUE=NaN VALUE\n",
        "a=pd.Series([4,3,2,1,7])\n",
        "b=pd.Series([5,4,3])\n",
        "print(a+b)\n",
        "print(a-b)\n",
        "print(a*b)\n",
        "print(a**b)\n",
        "print(a/b)\n",
        "print(a//b)\n"
      ],
      "execution_count": null,
      "outputs": [
        {
          "output_type": "stream",
          "text": [
            "0    9.0\n",
            "1    7.0\n",
            "2    5.0\n",
            "3    NaN\n",
            "4    NaN\n",
            "dtype: float64\n",
            "0   -1.0\n",
            "1   -1.0\n",
            "2   -1.0\n",
            "3    NaN\n",
            "4    NaN\n",
            "dtype: float64\n",
            "0    20.0\n",
            "1    12.0\n",
            "2     6.0\n",
            "3     NaN\n",
            "4     NaN\n",
            "dtype: float64\n",
            "0    1024.0\n",
            "1      81.0\n",
            "2       8.0\n",
            "3       1.0\n",
            "4       NaN\n",
            "dtype: float64\n",
            "0    0.800000\n",
            "1    0.750000\n",
            "2    0.666667\n",
            "3         NaN\n",
            "4         NaN\n",
            "dtype: float64\n",
            "0    0.0\n",
            "1    0.0\n",
            "2    0.0\n",
            "3    NaN\n",
            "4    NaN\n",
            "dtype: float64\n"
          ],
          "name": "stdout"
        }
      ]
    },
    {
      "cell_type": "code",
      "metadata": {
        "colab": {
          "base_uri": "https://localhost:8080/"
        },
        "id": "WHmikYfxnlgT",
        "outputId": "1df65276-3fe9-4032-f68c-bad30a48c138"
      },
      "source": [
        "#DUPLICATED\n",
        "#WHEN ANY OBJECT IS REPEATED, THEN TRUE WILL BE PRINT IN OUTPUT\n",
        "a=pd.Series([\"a\",\"b\",\"a\",\"b\",\"c\"])\n",
        "print(a.duplicated())"
      ],
      "execution_count": null,
      "outputs": [
        {
          "output_type": "stream",
          "text": [
            "0    False\n",
            "1    False\n",
            "2     True\n",
            "3     True\n",
            "4    False\n",
            "dtype: bool\n"
          ],
          "name": "stdout"
        }
      ]
    },
    {
      "cell_type": "code",
      "metadata": {
        "colab": {
          "base_uri": "https://localhost:8080/"
        },
        "id": "2324PRagkSbt",
        "outputId": "6e22fab7-677b-4781-f36e-626afc8a8da9"
      },
      "source": [
        "#TO VIEW JUST ARRAY\n",
        "a=pd.Series([\"a\",\"b\",\"a\",\"b\",\"c\"])\n",
        "print(a.array)"
      ],
      "execution_count": null,
      "outputs": [
        {
          "output_type": "stream",
          "text": [
            "<PandasArray>\n",
            "['a', 'b', 'a', 'b', 'c']\n",
            "Length: 5, dtype: object\n"
          ],
          "name": "stdout"
        }
      ]
    },
    {
      "cell_type": "code",
      "metadata": {
        "colab": {
          "base_uri": "https://localhost:8080/"
        },
        "id": "4GrL8XcaoeNw",
        "outputId": "09416ec0-6612-45dc-df3d-5feaf5859fbf"
      },
      "source": [
        "#TO SEE INDEX\n",
        "a=pd.Series([\"a\",\"b\",\"a\",\"b\",\"c\"],index=[\"x\",\"y\",\"z\",\"w\",\"yy\"])\n",
        "print(a.index)"
      ],
      "execution_count": null,
      "outputs": [
        {
          "output_type": "stream",
          "text": [
            "Index(['x', 'y', 'z', 'w', 'yy'], dtype='object')\n"
          ],
          "name": "stdout"
        }
      ]
    },
    {
      "cell_type": "code",
      "metadata": {
        "colab": {
          "base_uri": "https://localhost:8080/"
        },
        "id": "aWuZkgOJo0u8",
        "outputId": "59ff6438-83ac-468f-a484-db4b80fb8756"
      },
      "source": [
        "#TO SEE VALUES \n",
        "a=pd.Series([\"a\",\"b\",\"a\",\"b\",\"c\"],index=[\"x\",\"y\",\"z\",\"w\",\"yy\"])\n",
        "print(a.values)"
      ],
      "execution_count": null,
      "outputs": [
        {
          "output_type": "stream",
          "text": [
            "['a' 'b' 'a' 'b' 'c']\n"
          ],
          "name": "stdout"
        }
      ]
    },
    {
      "cell_type": "code",
      "metadata": {
        "colab": {
          "base_uri": "https://localhost:8080/"
        },
        "id": "VYS6Ae3B44DH",
        "outputId": "015b6b05-d7bd-426e-86df-61cb3058a4d9"
      },
      "source": [
        "#FANCY INDEXING\n",
        "a=pd.Series([3,4,5,6,1,12],index=[\"a\",\"b\",\"c\",\"d\",\"e\",\"f\"])\n",
        "print(a[[\"b\",\"c\",\"e\"]])\n",
        "#WE CAN ALSO GIVE REPEATED LABELS\n",
        "print(a[[\"b\",\"b\",\"a\",\"c\"]])"
      ],
      "execution_count": null,
      "outputs": [
        {
          "output_type": "stream",
          "text": [
            "b    4\n",
            "c    5\n",
            "e    1\n",
            "dtype: int64\n",
            "b    4\n",
            "b    4\n",
            "a    3\n",
            "c    5\n",
            "dtype: int64\n"
          ],
          "name": "stdout"
        }
      ]
    },
    {
      "cell_type": "code",
      "metadata": {
        "colab": {
          "base_uri": "https://localhost:8080/"
        },
        "id": "hjHb_W-644M8",
        "outputId": "e5038018-cbc4-4924-f157-294bbd581307"
      },
      "source": [
        "#BOOLEAN INDEXING\n",
        "a=pd.Series([2,1,-5,-3,0])\n",
        "print(a[a>0])\n",
        "print(a[a<0])\n",
        "print(a[a!=0])\n"
      ],
      "execution_count": null,
      "outputs": [
        {
          "output_type": "stream",
          "text": [
            "0    2\n",
            "1    1\n",
            "dtype: int64\n",
            "2   -5\n",
            "3   -3\n",
            "dtype: int64\n",
            "0    2\n",
            "1    1\n",
            "2   -5\n",
            "3   -3\n",
            "dtype: int64\n"
          ],
          "name": "stdout"
        }
      ]
    },
    {
      "cell_type": "code",
      "metadata": {
        "colab": {
          "base_uri": "https://localhost:8080/"
        },
        "id": "L5KbEEmiogFe",
        "outputId": "6762a81a-f600-4dc1-a265-ec191124a985"
      },
      "source": [
        "#THE ORIGINAL ARRAY WILL REMAIN SAME\n",
        "a"
      ],
      "execution_count": null,
      "outputs": [
        {
          "output_type": "execute_result",
          "data": {
            "text/plain": [
              "0    2\n",
              "1    1\n",
              "2   -5\n",
              "3   -3\n",
              "4    0\n",
              "dtype: int64"
            ]
          },
          "metadata": {
            "tags": []
          },
          "execution_count": 26
        }
      ]
    },
    {
      "cell_type": "code",
      "metadata": {
        "colab": {
          "base_uri": "https://localhost:8080/"
        },
        "id": "AYVn4kbao63U",
        "outputId": "c672e13d-d788-4a77-b2ca-10ca617ba487"
      },
      "source": [
        "#TO SAVE THE CHANGES\n",
        "b=a[a>0]\n",
        "b"
      ],
      "execution_count": null,
      "outputs": [
        {
          "output_type": "execute_result",
          "data": {
            "text/plain": [
              "0    2\n",
              "1    1\n",
              "dtype: int64"
            ]
          },
          "metadata": {
            "tags": []
          },
          "execution_count": 27
        }
      ]
    },
    {
      "cell_type": "code",
      "metadata": {
        "colab": {
          "base_uri": "https://localhost:8080/"
        },
        "id": "ZnrveZr1pD1r",
        "outputId": "0401cd62-2476-476e-d3a9-e946a682bb14"
      },
      "source": [
        "a=pd.Series([1,5,4,3,8,90])\n",
        "a.index=[\"a\",\"b\",\"c\",\"d\",\"e\",\"f\"]\n",
        "a"
      ],
      "execution_count": null,
      "outputs": [
        {
          "output_type": "execute_result",
          "data": {
            "text/plain": [
              "a     1\n",
              "b     5\n",
              "c     4\n",
              "d     3\n",
              "e     8\n",
              "f    90\n",
              "dtype: int64"
            ]
          },
          "metadata": {
            "tags": []
          },
          "execution_count": 28
        }
      ]
    },
    {
      "cell_type": "code",
      "metadata": {
        "colab": {
          "base_uri": "https://localhost:8080/"
        },
        "id": "ABaik3oqpfzV",
        "outputId": "2d7da8cf-7188-4a67-eaf3-d535f0654944"
      },
      "source": [
        "#IF WE WANT TO CHECK THAT WHETHER THIS OBJECT PRESENT IN SERIES ARRAY OR NOT\n",
        "#IF IT IS PRESENT THEN TRUE WILL BE PRINT\n",
        "#IF IT IS NOT PRESENT THEN FALSE WILL BE PRINT\n",
        "a=pd.Series([4,3,2,1])\n",
        "print(3 in a)\n",
        "print(2 in a)\n",
        "print(8 in a)\n",
        "print(\"hasham\" in a)"
      ],
      "execution_count": null,
      "outputs": [
        {
          "output_type": "stream",
          "text": [
            "True\n",
            "True\n",
            "False\n",
            "False\n"
          ],
          "name": "stdout"
        }
      ]
    },
    {
      "cell_type": "markdown",
      "metadata": {
        "id": "3tcU6yV1ZhyR"
      },
      "source": [
        "## **DATAFRAME**"
      ]
    },
    {
      "cell_type": "code",
      "metadata": {
        "id": "91BRoN7Uo09g",
        "colab": {
          "base_uri": "https://localhost:8080/",
          "height": 173
        },
        "outputId": "10a9a600-eeb7-4f2d-944b-72e00e4f1136"
      },
      "source": [
        "#MULTI-DIMENSION ARRAY IS CALLED DATAFRAME\n",
        "#HORIZONTAL ROWS ARE CALLED ROWS\n",
        "#VERTICAL COLUMN IS CALLED COLUMN\n",
        "a=pd.DataFrame({\"NAME\":[\"HASHAM\",\"AZHAR\",\"AMIN\",\"MOIN\"],\"AGE\":[20,22,30,32]})\n",
        "a"
      ],
      "execution_count": null,
      "outputs": [
        {
          "output_type": "execute_result",
          "data": {
            "text/html": [
              "<div>\n",
              "<style scoped>\n",
              "    .dataframe tbody tr th:only-of-type {\n",
              "        vertical-align: middle;\n",
              "    }\n",
              "\n",
              "    .dataframe tbody tr th {\n",
              "        vertical-align: top;\n",
              "    }\n",
              "\n",
              "    .dataframe thead th {\n",
              "        text-align: right;\n",
              "    }\n",
              "</style>\n",
              "<table border=\"1\" class=\"dataframe\">\n",
              "  <thead>\n",
              "    <tr style=\"text-align: right;\">\n",
              "      <th></th>\n",
              "      <th>NAME</th>\n",
              "      <th>AGE</th>\n",
              "    </tr>\n",
              "  </thead>\n",
              "  <tbody>\n",
              "    <tr>\n",
              "      <th>0</th>\n",
              "      <td>HASHAM</td>\n",
              "      <td>20</td>\n",
              "    </tr>\n",
              "    <tr>\n",
              "      <th>1</th>\n",
              "      <td>AZHAR</td>\n",
              "      <td>22</td>\n",
              "    </tr>\n",
              "    <tr>\n",
              "      <th>2</th>\n",
              "      <td>AMIN</td>\n",
              "      <td>30</td>\n",
              "    </tr>\n",
              "    <tr>\n",
              "      <th>3</th>\n",
              "      <td>MOIN</td>\n",
              "      <td>32</td>\n",
              "    </tr>\n",
              "  </tbody>\n",
              "</table>\n",
              "</div>"
            ],
            "text/plain": [
              "     NAME  AGE\n",
              "0  HASHAM   20\n",
              "1   AZHAR   22\n",
              "2    AMIN   30\n",
              "3    MOIN   32"
            ]
          },
          "metadata": {
            "tags": []
          },
          "execution_count": 13
        }
      ]
    },
    {
      "cell_type": "code",
      "metadata": {
        "id": "3bBY0Hv29oMG",
        "colab": {
          "base_uri": "https://localhost:8080/",
          "height": 241
        },
        "outputId": "7495f983-adee-4e4c-d2cd-27cb281c06bc"
      },
      "source": [
        "b=[]\n",
        "for a in range(4):\n",
        "  c=input(\"ENTER THE NAME: \")\n",
        "  b.append(c)\n",
        "d=pd.DataFrame({\"NAME\":b})\n",
        "d\n"
      ],
      "execution_count": null,
      "outputs": [
        {
          "output_type": "stream",
          "text": [
            "ENTER THE NAME: hasham\n",
            "ENTER THE NAME: azhar\n",
            "ENTER THE NAME: amin\n",
            "ENTER THE NAME: moin\n"
          ],
          "name": "stdout"
        },
        {
          "output_type": "execute_result",
          "data": {
            "text/html": [
              "<div>\n",
              "<style scoped>\n",
              "    .dataframe tbody tr th:only-of-type {\n",
              "        vertical-align: middle;\n",
              "    }\n",
              "\n",
              "    .dataframe tbody tr th {\n",
              "        vertical-align: top;\n",
              "    }\n",
              "\n",
              "    .dataframe thead th {\n",
              "        text-align: right;\n",
              "    }\n",
              "</style>\n",
              "<table border=\"1\" class=\"dataframe\">\n",
              "  <thead>\n",
              "    <tr style=\"text-align: right;\">\n",
              "      <th></th>\n",
              "      <th>NAME</th>\n",
              "    </tr>\n",
              "  </thead>\n",
              "  <tbody>\n",
              "    <tr>\n",
              "      <th>0</th>\n",
              "      <td>hasham</td>\n",
              "    </tr>\n",
              "    <tr>\n",
              "      <th>1</th>\n",
              "      <td>azhar</td>\n",
              "    </tr>\n",
              "    <tr>\n",
              "      <th>2</th>\n",
              "      <td>amin</td>\n",
              "    </tr>\n",
              "    <tr>\n",
              "      <th>3</th>\n",
              "      <td>moin</td>\n",
              "    </tr>\n",
              "  </tbody>\n",
              "</table>\n",
              "</div>"
            ],
            "text/plain": [
              "     NAME\n",
              "0  hasham\n",
              "1   azhar\n",
              "2    amin\n",
              "3    moin"
            ]
          },
          "metadata": {
            "tags": []
          },
          "execution_count": 3
        }
      ]
    },
    {
      "cell_type": "code",
      "metadata": {
        "colab": {
          "base_uri": "https://localhost:8080/",
          "height": 173
        },
        "id": "cnzsIuH3iuvC",
        "outputId": "e81b9776-c4d9-420a-e3b1-4ed86529d67c"
      },
      "source": [
        "a=pd.DataFrame({\"NAME\":[\"HASHAM\",\"AZHAR\",\"AMIN\",\"MOIN\"],\"AGE\":[20,22,30,33]})\n",
        "a"
      ],
      "execution_count": null,
      "outputs": [
        {
          "output_type": "execute_result",
          "data": {
            "text/html": [
              "<div>\n",
              "<style scoped>\n",
              "    .dataframe tbody tr th:only-of-type {\n",
              "        vertical-align: middle;\n",
              "    }\n",
              "\n",
              "    .dataframe tbody tr th {\n",
              "        vertical-align: top;\n",
              "    }\n",
              "\n",
              "    .dataframe thead th {\n",
              "        text-align: right;\n",
              "    }\n",
              "</style>\n",
              "<table border=\"1\" class=\"dataframe\">\n",
              "  <thead>\n",
              "    <tr style=\"text-align: right;\">\n",
              "      <th></th>\n",
              "      <th>NAME</th>\n",
              "      <th>AGE</th>\n",
              "    </tr>\n",
              "  </thead>\n",
              "  <tbody>\n",
              "    <tr>\n",
              "      <th>0</th>\n",
              "      <td>HASHAM</td>\n",
              "      <td>20</td>\n",
              "    </tr>\n",
              "    <tr>\n",
              "      <th>1</th>\n",
              "      <td>AZHAR</td>\n",
              "      <td>22</td>\n",
              "    </tr>\n",
              "    <tr>\n",
              "      <th>2</th>\n",
              "      <td>AMIN</td>\n",
              "      <td>30</td>\n",
              "    </tr>\n",
              "    <tr>\n",
              "      <th>3</th>\n",
              "      <td>MOIN</td>\n",
              "      <td>33</td>\n",
              "    </tr>\n",
              "  </tbody>\n",
              "</table>\n",
              "</div>"
            ],
            "text/plain": [
              "     NAME  AGE\n",
              "0  HASHAM   20\n",
              "1   AZHAR   22\n",
              "2    AMIN   30\n",
              "3    MOIN   33"
            ]
          },
          "metadata": {
            "tags": []
          },
          "execution_count": 5
        }
      ]
    },
    {
      "cell_type": "code",
      "metadata": {
        "colab": {
          "base_uri": "https://localhost:8080/",
          "height": 204
        },
        "id": "U5Okxzz7jaht",
        "outputId": "eedc64a2-2899-4309-bdf9-7433a5064020"
      },
      "source": [
        "#HEAD:IT WILL PRINT TOP 5 ROWS\n",
        "a=pd.DataFrame({\"NAME\":[\"AMIN\",\"ASLAM\",\"USAMA\",\"BILAL\",\"AZHAR\",\"MOIN\",\"HASHAM\"],\"AGE\":[20,14,55,56,24,23,30]})\n",
        "a.head()\n"
      ],
      "execution_count": null,
      "outputs": [
        {
          "output_type": "execute_result",
          "data": {
            "text/html": [
              "<div>\n",
              "<style scoped>\n",
              "    .dataframe tbody tr th:only-of-type {\n",
              "        vertical-align: middle;\n",
              "    }\n",
              "\n",
              "    .dataframe tbody tr th {\n",
              "        vertical-align: top;\n",
              "    }\n",
              "\n",
              "    .dataframe thead th {\n",
              "        text-align: right;\n",
              "    }\n",
              "</style>\n",
              "<table border=\"1\" class=\"dataframe\">\n",
              "  <thead>\n",
              "    <tr style=\"text-align: right;\">\n",
              "      <th></th>\n",
              "      <th>NAME</th>\n",
              "      <th>AGE</th>\n",
              "    </tr>\n",
              "  </thead>\n",
              "  <tbody>\n",
              "    <tr>\n",
              "      <th>0</th>\n",
              "      <td>AMIN</td>\n",
              "      <td>20</td>\n",
              "    </tr>\n",
              "    <tr>\n",
              "      <th>1</th>\n",
              "      <td>ASLAM</td>\n",
              "      <td>14</td>\n",
              "    </tr>\n",
              "    <tr>\n",
              "      <th>2</th>\n",
              "      <td>USAMA</td>\n",
              "      <td>55</td>\n",
              "    </tr>\n",
              "    <tr>\n",
              "      <th>3</th>\n",
              "      <td>BILAL</td>\n",
              "      <td>56</td>\n",
              "    </tr>\n",
              "    <tr>\n",
              "      <th>4</th>\n",
              "      <td>AZHAR</td>\n",
              "      <td>24</td>\n",
              "    </tr>\n",
              "  </tbody>\n",
              "</table>\n",
              "</div>"
            ],
            "text/plain": [
              "    NAME  AGE\n",
              "0   AMIN   20\n",
              "1  ASLAM   14\n",
              "2  USAMA   55\n",
              "3  BILAL   56\n",
              "4  AZHAR   24"
            ]
          },
          "metadata": {
            "tags": []
          },
          "execution_count": 10
        }
      ]
    },
    {
      "cell_type": "code",
      "metadata": {
        "colab": {
          "base_uri": "https://localhost:8080/",
          "height": 142
        },
        "id": "pXbhswZNiu7t",
        "outputId": "04bbc5ca-f4f8-4b9e-ff29-38857ae2e505"
      },
      "source": [
        "#BUT WE CAN ALSO GIVE THE NUMBER \n",
        "a.head(3)"
      ],
      "execution_count": null,
      "outputs": [
        {
          "output_type": "execute_result",
          "data": {
            "text/html": [
              "<div>\n",
              "<style scoped>\n",
              "    .dataframe tbody tr th:only-of-type {\n",
              "        vertical-align: middle;\n",
              "    }\n",
              "\n",
              "    .dataframe tbody tr th {\n",
              "        vertical-align: top;\n",
              "    }\n",
              "\n",
              "    .dataframe thead th {\n",
              "        text-align: right;\n",
              "    }\n",
              "</style>\n",
              "<table border=\"1\" class=\"dataframe\">\n",
              "  <thead>\n",
              "    <tr style=\"text-align: right;\">\n",
              "      <th></th>\n",
              "      <th>NAME</th>\n",
              "      <th>AGE</th>\n",
              "    </tr>\n",
              "  </thead>\n",
              "  <tbody>\n",
              "    <tr>\n",
              "      <th>0</th>\n",
              "      <td>AMIN</td>\n",
              "      <td>20</td>\n",
              "    </tr>\n",
              "    <tr>\n",
              "      <th>1</th>\n",
              "      <td>ASLAM</td>\n",
              "      <td>14</td>\n",
              "    </tr>\n",
              "    <tr>\n",
              "      <th>2</th>\n",
              "      <td>USAMA</td>\n",
              "      <td>55</td>\n",
              "    </tr>\n",
              "  </tbody>\n",
              "</table>\n",
              "</div>"
            ],
            "text/plain": [
              "    NAME  AGE\n",
              "0   AMIN   20\n",
              "1  ASLAM   14\n",
              "2  USAMA   55"
            ]
          },
          "metadata": {
            "tags": []
          },
          "execution_count": 11
        }
      ]
    },
    {
      "cell_type": "code",
      "metadata": {
        "colab": {
          "base_uri": "https://localhost:8080/",
          "height": 204
        },
        "id": "C3mwZTCIlQHu",
        "outputId": "5d81cb24-583a-4f34-ee9f-dd206fcfbe6e"
      },
      "source": [
        "#TAIL: IT WILL PRINT LAST 5 ROWS\n",
        "a.tail()"
      ],
      "execution_count": null,
      "outputs": [
        {
          "output_type": "execute_result",
          "data": {
            "text/html": [
              "<div>\n",
              "<style scoped>\n",
              "    .dataframe tbody tr th:only-of-type {\n",
              "        vertical-align: middle;\n",
              "    }\n",
              "\n",
              "    .dataframe tbody tr th {\n",
              "        vertical-align: top;\n",
              "    }\n",
              "\n",
              "    .dataframe thead th {\n",
              "        text-align: right;\n",
              "    }\n",
              "</style>\n",
              "<table border=\"1\" class=\"dataframe\">\n",
              "  <thead>\n",
              "    <tr style=\"text-align: right;\">\n",
              "      <th></th>\n",
              "      <th>NAME</th>\n",
              "      <th>AGE</th>\n",
              "    </tr>\n",
              "  </thead>\n",
              "  <tbody>\n",
              "    <tr>\n",
              "      <th>2</th>\n",
              "      <td>USAMA</td>\n",
              "      <td>55</td>\n",
              "    </tr>\n",
              "    <tr>\n",
              "      <th>3</th>\n",
              "      <td>BILAL</td>\n",
              "      <td>56</td>\n",
              "    </tr>\n",
              "    <tr>\n",
              "      <th>4</th>\n",
              "      <td>AZHAR</td>\n",
              "      <td>24</td>\n",
              "    </tr>\n",
              "    <tr>\n",
              "      <th>5</th>\n",
              "      <td>MOIN</td>\n",
              "      <td>23</td>\n",
              "    </tr>\n",
              "    <tr>\n",
              "      <th>6</th>\n",
              "      <td>HASHAM</td>\n",
              "      <td>30</td>\n",
              "    </tr>\n",
              "  </tbody>\n",
              "</table>\n",
              "</div>"
            ],
            "text/plain": [
              "     NAME  AGE\n",
              "2   USAMA   55\n",
              "3   BILAL   56\n",
              "4   AZHAR   24\n",
              "5    MOIN   23\n",
              "6  HASHAM   30"
            ]
          },
          "metadata": {
            "tags": []
          },
          "execution_count": 12
        }
      ]
    },
    {
      "cell_type": "code",
      "metadata": {
        "colab": {
          "base_uri": "https://localhost:8080/",
          "height": 142
        },
        "id": "pOrShm1AlQTe",
        "outputId": "525f141c-b9e2-4c77-dfda-4df22de190bb"
      },
      "source": [
        "#WE CAN ALSO GIVE THE NUMBERS \n",
        "a.tail(3)"
      ],
      "execution_count": null,
      "outputs": [
        {
          "output_type": "execute_result",
          "data": {
            "text/html": [
              "<div>\n",
              "<style scoped>\n",
              "    .dataframe tbody tr th:only-of-type {\n",
              "        vertical-align: middle;\n",
              "    }\n",
              "\n",
              "    .dataframe tbody tr th {\n",
              "        vertical-align: top;\n",
              "    }\n",
              "\n",
              "    .dataframe thead th {\n",
              "        text-align: right;\n",
              "    }\n",
              "</style>\n",
              "<table border=\"1\" class=\"dataframe\">\n",
              "  <thead>\n",
              "    <tr style=\"text-align: right;\">\n",
              "      <th></th>\n",
              "      <th>NAME</th>\n",
              "      <th>AGE</th>\n",
              "    </tr>\n",
              "  </thead>\n",
              "  <tbody>\n",
              "    <tr>\n",
              "      <th>4</th>\n",
              "      <td>AZHAR</td>\n",
              "      <td>24</td>\n",
              "    </tr>\n",
              "    <tr>\n",
              "      <th>5</th>\n",
              "      <td>MOIN</td>\n",
              "      <td>23</td>\n",
              "    </tr>\n",
              "    <tr>\n",
              "      <th>6</th>\n",
              "      <td>HASHAM</td>\n",
              "      <td>30</td>\n",
              "    </tr>\n",
              "  </tbody>\n",
              "</table>\n",
              "</div>"
            ],
            "text/plain": [
              "     NAME  AGE\n",
              "4   AZHAR   24\n",
              "5    MOIN   23\n",
              "6  HASHAM   30"
            ]
          },
          "metadata": {
            "tags": []
          },
          "execution_count": 13
        }
      ]
    },
    {
      "cell_type": "code",
      "metadata": {
        "colab": {
          "base_uri": "https://localhost:8080/"
        },
        "id": "hLfnF69eljPE",
        "outputId": "b7c72c31-d1cf-4f74-b6a1-38ae765a0a12"
      },
      "source": [
        "#SIZE: IT WILL PRINT TOTAL NUMBERS OF OBJECTS\n",
        "a.size"
      ],
      "execution_count": null,
      "outputs": [
        {
          "output_type": "execute_result",
          "data": {
            "text/plain": [
              "14"
            ]
          },
          "metadata": {
            "tags": []
          },
          "execution_count": 15
        }
      ]
    },
    {
      "cell_type": "code",
      "metadata": {
        "colab": {
          "base_uri": "https://localhost:8080/"
        },
        "id": "KD_gRA58lr72",
        "outputId": "28917e51-d9d3-4b09-81cf-8f03290cda02"
      },
      "source": [
        "#IT WILL PRONT SHAPE OF AN ARRAY\n",
        "a.shape"
      ],
      "execution_count": null,
      "outputs": [
        {
          "output_type": "execute_result",
          "data": {
            "text/plain": [
              "(7, 2)"
            ]
          },
          "metadata": {
            "tags": []
          },
          "execution_count": 16
        }
      ]
    },
    {
      "cell_type": "code",
      "metadata": {
        "colab": {
          "base_uri": "https://localhost:8080/",
          "height": 297
        },
        "id": "sSv0WkwBl94z",
        "outputId": "b6505eba-645e-444e-9539-f1720f9498d0"
      },
      "source": [
        "#DESCRIBE: IT WILL PRINT A MASSIVE INFORMATION ABOUT ARRAY\n",
        "a.describe()"
      ],
      "execution_count": null,
      "outputs": [
        {
          "output_type": "execute_result",
          "data": {
            "text/html": [
              "<div>\n",
              "<style scoped>\n",
              "    .dataframe tbody tr th:only-of-type {\n",
              "        vertical-align: middle;\n",
              "    }\n",
              "\n",
              "    .dataframe tbody tr th {\n",
              "        vertical-align: top;\n",
              "    }\n",
              "\n",
              "    .dataframe thead th {\n",
              "        text-align: right;\n",
              "    }\n",
              "</style>\n",
              "<table border=\"1\" class=\"dataframe\">\n",
              "  <thead>\n",
              "    <tr style=\"text-align: right;\">\n",
              "      <th></th>\n",
              "      <th>AGE</th>\n",
              "    </tr>\n",
              "  </thead>\n",
              "  <tbody>\n",
              "    <tr>\n",
              "      <th>count</th>\n",
              "      <td>7.000000</td>\n",
              "    </tr>\n",
              "    <tr>\n",
              "      <th>mean</th>\n",
              "      <td>31.714286</td>\n",
              "    </tr>\n",
              "    <tr>\n",
              "      <th>std</th>\n",
              "      <td>16.938263</td>\n",
              "    </tr>\n",
              "    <tr>\n",
              "      <th>min</th>\n",
              "      <td>14.000000</td>\n",
              "    </tr>\n",
              "    <tr>\n",
              "      <th>25%</th>\n",
              "      <td>21.500000</td>\n",
              "    </tr>\n",
              "    <tr>\n",
              "      <th>50%</th>\n",
              "      <td>24.000000</td>\n",
              "    </tr>\n",
              "    <tr>\n",
              "      <th>75%</th>\n",
              "      <td>42.500000</td>\n",
              "    </tr>\n",
              "    <tr>\n",
              "      <th>max</th>\n",
              "      <td>56.000000</td>\n",
              "    </tr>\n",
              "  </tbody>\n",
              "</table>\n",
              "</div>"
            ],
            "text/plain": [
              "             AGE\n",
              "count   7.000000\n",
              "mean   31.714286\n",
              "std    16.938263\n",
              "min    14.000000\n",
              "25%    21.500000\n",
              "50%    24.000000\n",
              "75%    42.500000\n",
              "max    56.000000"
            ]
          },
          "metadata": {
            "tags": []
          },
          "execution_count": 17
        }
      ]
    },
    {
      "cell_type": "code",
      "metadata": {
        "colab": {
          "base_uri": "https://localhost:8080/",
          "height": 111
        },
        "id": "uNrWkidnmr6k",
        "outputId": "d878a9b3-2f46-43bf-84fc-b9a4734cbae8"
      },
      "source": [
        "#EXTRACTION OF DATA\n",
        "#iloc=IT IS USED TO EXTRACT DATA AS A SLICING[ROW  ,COLUMN]\n",
        "a=pd.DataFrame({\"NAME\":[\"HASHAM\",\"AZHAR\",\"AMIN\",\"MOIN\"],\"AGE\":[20,22,30,31],\"CGPA\":[3,3.2,3.4,3.6]})\n",
        "a.iloc[1:3,1:3]"
      ],
      "execution_count": null,
      "outputs": [
        {
          "output_type": "execute_result",
          "data": {
            "text/html": [
              "<div>\n",
              "<style scoped>\n",
              "    .dataframe tbody tr th:only-of-type {\n",
              "        vertical-align: middle;\n",
              "    }\n",
              "\n",
              "    .dataframe tbody tr th {\n",
              "        vertical-align: top;\n",
              "    }\n",
              "\n",
              "    .dataframe thead th {\n",
              "        text-align: right;\n",
              "    }\n",
              "</style>\n",
              "<table border=\"1\" class=\"dataframe\">\n",
              "  <thead>\n",
              "    <tr style=\"text-align: right;\">\n",
              "      <th></th>\n",
              "      <th>AGE</th>\n",
              "      <th>CGPA</th>\n",
              "    </tr>\n",
              "  </thead>\n",
              "  <tbody>\n",
              "    <tr>\n",
              "      <th>1</th>\n",
              "      <td>22</td>\n",
              "      <td>3.2</td>\n",
              "    </tr>\n",
              "    <tr>\n",
              "      <th>2</th>\n",
              "      <td>30</td>\n",
              "      <td>3.4</td>\n",
              "    </tr>\n",
              "  </tbody>\n",
              "</table>\n",
              "</div>"
            ],
            "text/plain": [
              "   AGE  CGPA\n",
              "1   22   3.2\n",
              "2   30   3.4"
            ]
          },
          "metadata": {
            "tags": []
          },
          "execution_count": 3
        }
      ]
    },
    {
      "cell_type": "code",
      "metadata": {
        "id": "pMjxWY-Undfl"
      },
      "source": [
        "a[1:3,1:]#ERROR BECAUSE OF INVALID SYNTAX"
      ],
      "execution_count": null,
      "outputs": []
    },
    {
      "cell_type": "code",
      "metadata": {
        "colab": {
          "base_uri": "https://localhost:8080/",
          "height": 142
        },
        "id": "OacRhLJYnrtf",
        "outputId": "8eff04ce-c520-4988-b8c8-f99e9170c3a0"
      },
      "source": [
        "#loc=IT IS ALSO USED FOR EXTRACTION OF DATA ,THE DIFFERENCE IS THAT WE SHOULD WRITE THE NAME OF THE COLUMN WHICH WE WANT TO EXTRACT AND IN THE ROW THE LAST NUMBER IS INCLUSIVE\n",
        "a.loc[1:3,(\"NAME\",\"CGPA\")]"
      ],
      "execution_count": null,
      "outputs": [
        {
          "output_type": "execute_result",
          "data": {
            "text/html": [
              "<div>\n",
              "<style scoped>\n",
              "    .dataframe tbody tr th:only-of-type {\n",
              "        vertical-align: middle;\n",
              "    }\n",
              "\n",
              "    .dataframe tbody tr th {\n",
              "        vertical-align: top;\n",
              "    }\n",
              "\n",
              "    .dataframe thead th {\n",
              "        text-align: right;\n",
              "    }\n",
              "</style>\n",
              "<table border=\"1\" class=\"dataframe\">\n",
              "  <thead>\n",
              "    <tr style=\"text-align: right;\">\n",
              "      <th></th>\n",
              "      <th>NAME</th>\n",
              "      <th>CGPA</th>\n",
              "    </tr>\n",
              "  </thead>\n",
              "  <tbody>\n",
              "    <tr>\n",
              "      <th>1</th>\n",
              "      <td>AZHAR</td>\n",
              "      <td>3.2</td>\n",
              "    </tr>\n",
              "    <tr>\n",
              "      <th>2</th>\n",
              "      <td>AMIN</td>\n",
              "      <td>3.4</td>\n",
              "    </tr>\n",
              "    <tr>\n",
              "      <th>3</th>\n",
              "      <td>MOIN</td>\n",
              "      <td>3.6</td>\n",
              "    </tr>\n",
              "  </tbody>\n",
              "</table>\n",
              "</div>"
            ],
            "text/plain": [
              "    NAME  CGPA\n",
              "1  AZHAR   3.2\n",
              "2   AMIN   3.4\n",
              "3   MOIN   3.6"
            ]
          },
          "metadata": {
            "tags": []
          },
          "execution_count": 23
        }
      ]
    },
    {
      "cell_type": "code",
      "metadata": {
        "colab": {
          "base_uri": "https://localhost:8080/",
          "height": 173
        },
        "id": "GWCUgoMeoJtb",
        "outputId": "765560fe-5c38-4c17-bbfc-9cae4333b94c"
      },
      "source": [
        "#DROP:TO DROP ANY COLUMN OR ROW BUT ORIGINAL ARRAY WILL REMAIN SAME\n",
        "#AXIS=1 FOR DROP THE COLUMN\n",
        "#AXIS=0 FOR DROP THE ROWS\n",
        "a.drop(\"NAME\",axis=1)"
      ],
      "execution_count": null,
      "outputs": [
        {
          "output_type": "execute_result",
          "data": {
            "text/html": [
              "<div>\n",
              "<style scoped>\n",
              "    .dataframe tbody tr th:only-of-type {\n",
              "        vertical-align: middle;\n",
              "    }\n",
              "\n",
              "    .dataframe tbody tr th {\n",
              "        vertical-align: top;\n",
              "    }\n",
              "\n",
              "    .dataframe thead th {\n",
              "        text-align: right;\n",
              "    }\n",
              "</style>\n",
              "<table border=\"1\" class=\"dataframe\">\n",
              "  <thead>\n",
              "    <tr style=\"text-align: right;\">\n",
              "      <th></th>\n",
              "      <th>AGE</th>\n",
              "      <th>CGPA</th>\n",
              "    </tr>\n",
              "  </thead>\n",
              "  <tbody>\n",
              "    <tr>\n",
              "      <th>0</th>\n",
              "      <td>20</td>\n",
              "      <td>3.0</td>\n",
              "    </tr>\n",
              "    <tr>\n",
              "      <th>1</th>\n",
              "      <td>22</td>\n",
              "      <td>3.2</td>\n",
              "    </tr>\n",
              "    <tr>\n",
              "      <th>2</th>\n",
              "      <td>30</td>\n",
              "      <td>3.4</td>\n",
              "    </tr>\n",
              "    <tr>\n",
              "      <th>3</th>\n",
              "      <td>31</td>\n",
              "      <td>3.6</td>\n",
              "    </tr>\n",
              "  </tbody>\n",
              "</table>\n",
              "</div>"
            ],
            "text/plain": [
              "   AGE  CGPA\n",
              "0   20   3.0\n",
              "1   22   3.2\n",
              "2   30   3.4\n",
              "3   31   3.6"
            ]
          },
          "metadata": {
            "tags": []
          },
          "execution_count": 44
        }
      ]
    },
    {
      "cell_type": "code",
      "metadata": {
        "colab": {
          "base_uri": "https://localhost:8080/",
          "height": 173
        },
        "id": "vhFugDy5oJ4E",
        "outputId": "8028a4f2-2a7c-4cb0-b0aa-e9aa474e248a"
      },
      "source": [
        "a#REMAIN AS  ORIGINAL"
      ],
      "execution_count": null,
      "outputs": [
        {
          "output_type": "execute_result",
          "data": {
            "text/html": [
              "<div>\n",
              "<style scoped>\n",
              "    .dataframe tbody tr th:only-of-type {\n",
              "        vertical-align: middle;\n",
              "    }\n",
              "\n",
              "    .dataframe tbody tr th {\n",
              "        vertical-align: top;\n",
              "    }\n",
              "\n",
              "    .dataframe thead th {\n",
              "        text-align: right;\n",
              "    }\n",
              "</style>\n",
              "<table border=\"1\" class=\"dataframe\">\n",
              "  <thead>\n",
              "    <tr style=\"text-align: right;\">\n",
              "      <th></th>\n",
              "      <th>NAME</th>\n",
              "      <th>AGE</th>\n",
              "      <th>CGPA</th>\n",
              "    </tr>\n",
              "  </thead>\n",
              "  <tbody>\n",
              "    <tr>\n",
              "      <th>0</th>\n",
              "      <td>HASHAM</td>\n",
              "      <td>20</td>\n",
              "      <td>3.0</td>\n",
              "    </tr>\n",
              "    <tr>\n",
              "      <th>1</th>\n",
              "      <td>AZHAR</td>\n",
              "      <td>22</td>\n",
              "      <td>3.2</td>\n",
              "    </tr>\n",
              "    <tr>\n",
              "      <th>2</th>\n",
              "      <td>AMIN</td>\n",
              "      <td>30</td>\n",
              "      <td>3.4</td>\n",
              "    </tr>\n",
              "    <tr>\n",
              "      <th>3</th>\n",
              "      <td>MOIN</td>\n",
              "      <td>31</td>\n",
              "      <td>3.6</td>\n",
              "    </tr>\n",
              "  </tbody>\n",
              "</table>\n",
              "</div>"
            ],
            "text/plain": [
              "     NAME  AGE  CGPA\n",
              "0  HASHAM   20   3.0\n",
              "1   AZHAR   22   3.2\n",
              "2    AMIN   30   3.4\n",
              "3    MOIN   31   3.6"
            ]
          },
          "metadata": {
            "tags": []
          },
          "execution_count": 45
        }
      ]
    },
    {
      "cell_type": "code",
      "metadata": {
        "colab": {
          "base_uri": "https://localhost:8080/",
          "height": 111
        },
        "id": "jcwRbp98psgn",
        "outputId": "2bc0b2ce-3809-47dc-e364-2296eacdd9dd"
      },
      "source": [
        "a.drop([2,3],axis=0)#3 IS INCLUDED"
      ],
      "execution_count": null,
      "outputs": [
        {
          "output_type": "execute_result",
          "data": {
            "text/html": [
              "<div>\n",
              "<style scoped>\n",
              "    .dataframe tbody tr th:only-of-type {\n",
              "        vertical-align: middle;\n",
              "    }\n",
              "\n",
              "    .dataframe tbody tr th {\n",
              "        vertical-align: top;\n",
              "    }\n",
              "\n",
              "    .dataframe thead th {\n",
              "        text-align: right;\n",
              "    }\n",
              "</style>\n",
              "<table border=\"1\" class=\"dataframe\">\n",
              "  <thead>\n",
              "    <tr style=\"text-align: right;\">\n",
              "      <th></th>\n",
              "      <th>NAME</th>\n",
              "      <th>AGE</th>\n",
              "      <th>CGPA</th>\n",
              "    </tr>\n",
              "  </thead>\n",
              "  <tbody>\n",
              "    <tr>\n",
              "      <th>0</th>\n",
              "      <td>HASHAM</td>\n",
              "      <td>20</td>\n",
              "      <td>3.0</td>\n",
              "    </tr>\n",
              "    <tr>\n",
              "      <th>1</th>\n",
              "      <td>AZHAR</td>\n",
              "      <td>22</td>\n",
              "      <td>3.2</td>\n",
              "    </tr>\n",
              "  </tbody>\n",
              "</table>\n",
              "</div>"
            ],
            "text/plain": [
              "     NAME  AGE  CGPA\n",
              "0  HASHAM   20   3.0\n",
              "1   AZHAR   22   3.2"
            ]
          },
          "metadata": {
            "tags": []
          },
          "execution_count": 5
        }
      ]
    },
    {
      "cell_type": "markdown",
      "metadata": {
        "id": "A7teLKyzrJEn"
      },
      "source": [
        "## **STATISTICS**"
      ]
    },
    {
      "cell_type": "code",
      "metadata": {
        "colab": {
          "base_uri": "https://localhost:8080/"
        },
        "id": "OAYpgPAAqXTB",
        "outputId": "4e92aa22-dc7d-4258-8e04-be17616748a2"
      },
      "source": [
        "#IN SERIES\n",
        "a=pd.Series([3,3,6,0,9,80,70])\n",
        "a.mean()"
      ],
      "execution_count": null,
      "outputs": [
        {
          "output_type": "execute_result",
          "data": {
            "text/plain": [
              "24.428571428571427"
            ]
          },
          "metadata": {
            "tags": []
          },
          "execution_count": 10
        }
      ]
    },
    {
      "cell_type": "code",
      "metadata": {
        "colab": {
          "base_uri": "https://localhost:8080/"
        },
        "id": "7kxFdtsPq5zo",
        "outputId": "69a5e612-62f7-4580-ca08-242963e02c82"
      },
      "source": [
        "a.median()"
      ],
      "execution_count": null,
      "outputs": [
        {
          "output_type": "execute_result",
          "data": {
            "text/plain": [
              "6.0"
            ]
          },
          "metadata": {
            "tags": []
          },
          "execution_count": 11
        }
      ]
    },
    {
      "cell_type": "code",
      "metadata": {
        "colab": {
          "base_uri": "https://localhost:8080/"
        },
        "id": "Qxu1x5p7rzR3",
        "outputId": "dc6613e8-0d04-489f-cd92-b4ae782c5850"
      },
      "source": [
        "a.mode()"
      ],
      "execution_count": null,
      "outputs": [
        {
          "output_type": "execute_result",
          "data": {
            "text/plain": [
              "0    3\n",
              "dtype: int64"
            ]
          },
          "metadata": {
            "tags": []
          },
          "execution_count": 12
        }
      ]
    },
    {
      "cell_type": "code",
      "metadata": {
        "colab": {
          "base_uri": "https://localhost:8080/"
        },
        "id": "jVs_ybWfr6aV",
        "outputId": "b2cf195c-c930-4c16-b9f7-bcba1393464f"
      },
      "source": [
        "a.max()"
      ],
      "execution_count": null,
      "outputs": [
        {
          "output_type": "execute_result",
          "data": {
            "text/plain": [
              "80"
            ]
          },
          "metadata": {
            "tags": []
          },
          "execution_count": 13
        }
      ]
    },
    {
      "cell_type": "code",
      "metadata": {
        "colab": {
          "base_uri": "https://localhost:8080/"
        },
        "id": "DXTX8iSEr74K",
        "outputId": "f6646754-bafd-468f-9227-a7c4a5d688e9"
      },
      "source": [
        "a.min()"
      ],
      "execution_count": null,
      "outputs": [
        {
          "output_type": "execute_result",
          "data": {
            "text/plain": [
              "0"
            ]
          },
          "metadata": {
            "tags": []
          },
          "execution_count": 14
        }
      ]
    },
    {
      "cell_type": "code",
      "metadata": {
        "colab": {
          "base_uri": "https://localhost:8080/"
        },
        "id": "LG3yrnKkr_vp",
        "outputId": "4949f094-adae-478c-a118-673159ea9bc2"
      },
      "source": [
        "a.var()"
      ],
      "execution_count": null,
      "outputs": [
        {
          "output_type": "execute_result",
          "data": {
            "text/plain": [
              "1209.6190476190475"
            ]
          },
          "metadata": {
            "tags": []
          },
          "execution_count": 15
        }
      ]
    },
    {
      "cell_type": "code",
      "metadata": {
        "colab": {
          "base_uri": "https://localhost:8080/"
        },
        "id": "zWMH7A7QsCbx",
        "outputId": "48de039b-d74e-4567-d353-3cdf0aabf230"
      },
      "source": [
        "a.std()"
      ],
      "execution_count": null,
      "outputs": [
        {
          "output_type": "execute_result",
          "data": {
            "text/plain": [
              "34.779578025316056"
            ]
          },
          "metadata": {
            "tags": []
          },
          "execution_count": 16
        }
      ]
    },
    {
      "cell_type": "code",
      "metadata": {
        "colab": {
          "base_uri": "https://localhost:8080/"
        },
        "id": "Mfh4g6YtsINF",
        "outputId": "39869774-43ed-4856-953d-b45ef35b7dfb"
      },
      "source": [
        "#IN DATAFRAME\n",
        "a=pd.DataFrame({\"NAME\":[\"HASHAM\",\"AZHAR\",\"AMIN\",\"MOIN\"],\"AGE\":[22,22,50,31],\"GRADES\":[88,55,66,99]})\n",
        "a.mean()"
      ],
      "execution_count": null,
      "outputs": [
        {
          "output_type": "execute_result",
          "data": {
            "text/plain": [
              "AGE       31.25\n",
              "GRADES    77.00\n",
              "dtype: float64"
            ]
          },
          "metadata": {
            "tags": []
          },
          "execution_count": 9
        }
      ]
    },
    {
      "cell_type": "code",
      "metadata": {
        "colab": {
          "base_uri": "https://localhost:8080/",
          "height": 173
        },
        "id": "hp5MHwymsIav",
        "outputId": "3501a39a-5fa0-4f94-9e6e-12866c31d230"
      },
      "source": [
        "a.mode()"
      ],
      "execution_count": null,
      "outputs": [
        {
          "output_type": "execute_result",
          "data": {
            "text/html": [
              "<div>\n",
              "<style scoped>\n",
              "    .dataframe tbody tr th:only-of-type {\n",
              "        vertical-align: middle;\n",
              "    }\n",
              "\n",
              "    .dataframe tbody tr th {\n",
              "        vertical-align: top;\n",
              "    }\n",
              "\n",
              "    .dataframe thead th {\n",
              "        text-align: right;\n",
              "    }\n",
              "</style>\n",
              "<table border=\"1\" class=\"dataframe\">\n",
              "  <thead>\n",
              "    <tr style=\"text-align: right;\">\n",
              "      <th></th>\n",
              "      <th>NAME</th>\n",
              "      <th>AGE</th>\n",
              "      <th>GRADES</th>\n",
              "    </tr>\n",
              "  </thead>\n",
              "  <tbody>\n",
              "    <tr>\n",
              "      <th>0</th>\n",
              "      <td>AMIN</td>\n",
              "      <td>22.0</td>\n",
              "      <td>55</td>\n",
              "    </tr>\n",
              "    <tr>\n",
              "      <th>1</th>\n",
              "      <td>AZHAR</td>\n",
              "      <td>NaN</td>\n",
              "      <td>66</td>\n",
              "    </tr>\n",
              "    <tr>\n",
              "      <th>2</th>\n",
              "      <td>HASHAM</td>\n",
              "      <td>NaN</td>\n",
              "      <td>88</td>\n",
              "    </tr>\n",
              "    <tr>\n",
              "      <th>3</th>\n",
              "      <td>MOIN</td>\n",
              "      <td>NaN</td>\n",
              "      <td>99</td>\n",
              "    </tr>\n",
              "  </tbody>\n",
              "</table>\n",
              "</div>"
            ],
            "text/plain": [
              "     NAME   AGE  GRADES\n",
              "0    AMIN  22.0      55\n",
              "1   AZHAR   NaN      66\n",
              "2  HASHAM   NaN      88\n",
              "3    MOIN   NaN      99"
            ]
          },
          "metadata": {
            "tags": []
          },
          "execution_count": 33
        }
      ]
    },
    {
      "cell_type": "code",
      "metadata": {
        "colab": {
          "base_uri": "https://localhost:8080/"
        },
        "id": "igdz2kzQs7_i",
        "outputId": "d0f6e659-bf66-42c3-d038-48d941781c6d"
      },
      "source": [
        "a.median()"
      ],
      "execution_count": null,
      "outputs": [
        {
          "output_type": "execute_result",
          "data": {
            "text/plain": [
              "AGE       26.5\n",
              "GRADES    77.0\n",
              "dtype: float64"
            ]
          },
          "metadata": {
            "tags": []
          },
          "execution_count": 34
        }
      ]
    },
    {
      "cell_type": "code",
      "metadata": {
        "colab": {
          "base_uri": "https://localhost:8080/"
        },
        "id": "lHXNtyhks8Hy",
        "outputId": "2f0eea6f-ea94-4680-a441-b42b1ec355da"
      },
      "source": [
        "a.max()"
      ],
      "execution_count": null,
      "outputs": [
        {
          "output_type": "execute_result",
          "data": {
            "text/plain": [
              "NAME      MOIN\n",
              "AGE         50\n",
              "GRADES      99\n",
              "dtype: object"
            ]
          },
          "metadata": {
            "tags": []
          },
          "execution_count": 35
        }
      ]
    },
    {
      "cell_type": "code",
      "metadata": {
        "colab": {
          "base_uri": "https://localhost:8080/"
        },
        "id": "AbsC2uLQtXaY",
        "outputId": "a1babf6d-59ff-4d67-a7b8-2356233ffed5"
      },
      "source": [
        "a.std()"
      ],
      "execution_count": null,
      "outputs": [
        {
          "output_type": "execute_result",
          "data": {
            "text/plain": [
              "AGE       13.200379\n",
              "GRADES    20.083160\n",
              "dtype: float64"
            ]
          },
          "metadata": {
            "tags": []
          },
          "execution_count": 36
        }
      ]
    },
    {
      "cell_type": "code",
      "metadata": {
        "colab": {
          "base_uri": "https://localhost:8080/"
        },
        "id": "h32GfJ4xtZij",
        "outputId": "d2cbbf17-df31-4b51-e887-fe3c832da7d7"
      },
      "source": [
        "a.var()"
      ],
      "execution_count": null,
      "outputs": [
        {
          "output_type": "execute_result",
          "data": {
            "text/plain": [
              "AGE       174.250000\n",
              "GRADES    403.333333\n",
              "dtype: float64"
            ]
          },
          "metadata": {
            "tags": []
          },
          "execution_count": 37
        }
      ]
    },
    {
      "cell_type": "markdown",
      "metadata": {
        "id": "rDX-T9viBA4r"
      },
      "source": [
        "**EXTRA FUNCTIONS**"
      ]
    },
    {
      "cell_type": "code",
      "metadata": {
        "colab": {
          "base_uri": "https://localhost:8080/"
        },
        "id": "U7_UZfAMtbIz",
        "outputId": "e6272c8b-dbe1-4df0-e8f8-0186f07ab25b"
      },
      "source": [
        "#IF WE WANT TO SEE THAT WHICH VALUE PRESENT IN THAT COLUMN AND HOW MANY TIMES IT IS REPEATED\n",
        "a[[\"NAME\"]].value_counts()"
      ],
      "execution_count": null,
      "outputs": [
        {
          "output_type": "execute_result",
          "data": {
            "text/plain": [
              "NAME  \n",
              "MOIN      1\n",
              "HASHAM    1\n",
              "AZHAR     1\n",
              "AMIN      1\n",
              "dtype: int64"
            ]
          },
          "metadata": {
            "tags": []
          },
          "execution_count": 38
        }
      ]
    },
    {
      "cell_type": "code",
      "metadata": {
        "colab": {
          "base_uri": "https://localhost:8080/"
        },
        "id": "wxiGWP0iuBk9",
        "outputId": "c9cdc054-a2cd-4e99-b59b-0d895085cee4"
      },
      "source": [
        "a[[\"AGE\"]].value_counts()"
      ],
      "execution_count": null,
      "outputs": [
        {
          "output_type": "execute_result",
          "data": {
            "text/plain": [
              "AGE\n",
              "22     2\n",
              "50     1\n",
              "31     1\n",
              "dtype: int64"
            ]
          },
          "metadata": {
            "tags": []
          },
          "execution_count": 39
        }
      ]
    },
    {
      "cell_type": "markdown",
      "metadata": {
        "id": "iiBuhe_dOlJZ"
      },
      "source": [
        "## **SORTING**"
      ]
    },
    {
      "cell_type": "code",
      "metadata": {
        "colab": {
          "base_uri": "https://localhost:8080/",
          "height": 173
        },
        "id": "jPB8BvYPAb7F",
        "outputId": "41cbf39b-6e76-45c1-d663-52d5cb293d1f"
      },
      "source": [
        "#SORTING\n",
        "a.sort_values(by=\"NAME\")#IT WILL PRINT IN ALPHABETICAL ORDER"
      ],
      "execution_count": null,
      "outputs": [
        {
          "output_type": "execute_result",
          "data": {
            "text/html": [
              "<div>\n",
              "<style scoped>\n",
              "    .dataframe tbody tr th:only-of-type {\n",
              "        vertical-align: middle;\n",
              "    }\n",
              "\n",
              "    .dataframe tbody tr th {\n",
              "        vertical-align: top;\n",
              "    }\n",
              "\n",
              "    .dataframe thead th {\n",
              "        text-align: right;\n",
              "    }\n",
              "</style>\n",
              "<table border=\"1\" class=\"dataframe\">\n",
              "  <thead>\n",
              "    <tr style=\"text-align: right;\">\n",
              "      <th></th>\n",
              "      <th>NAME</th>\n",
              "      <th>AGE</th>\n",
              "      <th>GRADES</th>\n",
              "    </tr>\n",
              "  </thead>\n",
              "  <tbody>\n",
              "    <tr>\n",
              "      <th>2</th>\n",
              "      <td>AMIN</td>\n",
              "      <td>50</td>\n",
              "      <td>66</td>\n",
              "    </tr>\n",
              "    <tr>\n",
              "      <th>1</th>\n",
              "      <td>AZHAR</td>\n",
              "      <td>22</td>\n",
              "      <td>55</td>\n",
              "    </tr>\n",
              "    <tr>\n",
              "      <th>0</th>\n",
              "      <td>HASHAM</td>\n",
              "      <td>22</td>\n",
              "      <td>88</td>\n",
              "    </tr>\n",
              "    <tr>\n",
              "      <th>3</th>\n",
              "      <td>MOIN</td>\n",
              "      <td>31</td>\n",
              "      <td>99</td>\n",
              "    </tr>\n",
              "  </tbody>\n",
              "</table>\n",
              "</div>"
            ],
            "text/plain": [
              "     NAME  AGE  GRADES\n",
              "2    AMIN   50      66\n",
              "1   AZHAR   22      55\n",
              "0  HASHAM   22      88\n",
              "3    MOIN   31      99"
            ]
          },
          "metadata": {
            "tags": []
          },
          "execution_count": 3
        }
      ]
    },
    {
      "cell_type": "code",
      "metadata": {
        "colab": {
          "base_uri": "https://localhost:8080/",
          "height": 173
        },
        "id": "lh-A0HplAcKz",
        "outputId": "c46f88dc-0237-4c94-8990-60100e1247d5"
      },
      "source": [
        "a.sort_values(by=\"AGE\")#IT WILL PRINT IN INCREASING ORDER"
      ],
      "execution_count": null,
      "outputs": [
        {
          "output_type": "execute_result",
          "data": {
            "text/html": [
              "<div>\n",
              "<style scoped>\n",
              "    .dataframe tbody tr th:only-of-type {\n",
              "        vertical-align: middle;\n",
              "    }\n",
              "\n",
              "    .dataframe tbody tr th {\n",
              "        vertical-align: top;\n",
              "    }\n",
              "\n",
              "    .dataframe thead th {\n",
              "        text-align: right;\n",
              "    }\n",
              "</style>\n",
              "<table border=\"1\" class=\"dataframe\">\n",
              "  <thead>\n",
              "    <tr style=\"text-align: right;\">\n",
              "      <th></th>\n",
              "      <th>NAME</th>\n",
              "      <th>AGE</th>\n",
              "      <th>GRADES</th>\n",
              "    </tr>\n",
              "  </thead>\n",
              "  <tbody>\n",
              "    <tr>\n",
              "      <th>0</th>\n",
              "      <td>HASHAM</td>\n",
              "      <td>22</td>\n",
              "      <td>88</td>\n",
              "    </tr>\n",
              "    <tr>\n",
              "      <th>1</th>\n",
              "      <td>AZHAR</td>\n",
              "      <td>22</td>\n",
              "      <td>55</td>\n",
              "    </tr>\n",
              "    <tr>\n",
              "      <th>3</th>\n",
              "      <td>MOIN</td>\n",
              "      <td>31</td>\n",
              "      <td>99</td>\n",
              "    </tr>\n",
              "    <tr>\n",
              "      <th>2</th>\n",
              "      <td>AMIN</td>\n",
              "      <td>50</td>\n",
              "      <td>66</td>\n",
              "    </tr>\n",
              "  </tbody>\n",
              "</table>\n",
              "</div>"
            ],
            "text/plain": [
              "     NAME  AGE  GRADES\n",
              "0  HASHAM   22      88\n",
              "1   AZHAR   22      55\n",
              "3    MOIN   31      99\n",
              "2    AMIN   50      66"
            ]
          },
          "metadata": {
            "tags": []
          },
          "execution_count": 4
        }
      ]
    },
    {
      "cell_type": "code",
      "metadata": {
        "colab": {
          "base_uri": "https://localhost:8080/",
          "height": 173
        },
        "id": "oYkL7irtDNiv",
        "outputId": "ca08286c-f8e9-4ac3-b5c8-d61cc70f241b"
      },
      "source": [
        "#BY DEFAULT IT WILL PRINT IN INCREASING ORDER\n",
        "#BUT WE CAN ALSO PRINT IN DESCINDING ORDER\n",
        "a.sort_values(by=\"NAME\",ascending=False)"
      ],
      "execution_count": null,
      "outputs": [
        {
          "output_type": "execute_result",
          "data": {
            "text/html": [
              "<div>\n",
              "<style scoped>\n",
              "    .dataframe tbody tr th:only-of-type {\n",
              "        vertical-align: middle;\n",
              "    }\n",
              "\n",
              "    .dataframe tbody tr th {\n",
              "        vertical-align: top;\n",
              "    }\n",
              "\n",
              "    .dataframe thead th {\n",
              "        text-align: right;\n",
              "    }\n",
              "</style>\n",
              "<table border=\"1\" class=\"dataframe\">\n",
              "  <thead>\n",
              "    <tr style=\"text-align: right;\">\n",
              "      <th></th>\n",
              "      <th>NAME</th>\n",
              "      <th>AGE</th>\n",
              "      <th>GRADES</th>\n",
              "    </tr>\n",
              "  </thead>\n",
              "  <tbody>\n",
              "    <tr>\n",
              "      <th>3</th>\n",
              "      <td>MOIN</td>\n",
              "      <td>31</td>\n",
              "      <td>99</td>\n",
              "    </tr>\n",
              "    <tr>\n",
              "      <th>0</th>\n",
              "      <td>HASHAM</td>\n",
              "      <td>22</td>\n",
              "      <td>88</td>\n",
              "    </tr>\n",
              "    <tr>\n",
              "      <th>1</th>\n",
              "      <td>AZHAR</td>\n",
              "      <td>22</td>\n",
              "      <td>55</td>\n",
              "    </tr>\n",
              "    <tr>\n",
              "      <th>2</th>\n",
              "      <td>AMIN</td>\n",
              "      <td>50</td>\n",
              "      <td>66</td>\n",
              "    </tr>\n",
              "  </tbody>\n",
              "</table>\n",
              "</div>"
            ],
            "text/plain": [
              "     NAME  AGE  GRADES\n",
              "3    MOIN   31      99\n",
              "0  HASHAM   22      88\n",
              "1   AZHAR   22      55\n",
              "2    AMIN   50      66"
            ]
          },
          "metadata": {
            "tags": []
          },
          "execution_count": 7
        }
      ]
    },
    {
      "cell_type": "code",
      "metadata": {
        "colab": {
          "base_uri": "https://localhost:8080/",
          "height": 173
        },
        "id": "hWk4jd1aNKf4",
        "outputId": "c627e72f-b23f-4f12-de69-87081541ac96"
      },
      "source": [
        "a.sort_values(by=\"GRADES\",ascending=False)"
      ],
      "execution_count": null,
      "outputs": [
        {
          "output_type": "execute_result",
          "data": {
            "text/html": [
              "<div>\n",
              "<style scoped>\n",
              "    .dataframe tbody tr th:only-of-type {\n",
              "        vertical-align: middle;\n",
              "    }\n",
              "\n",
              "    .dataframe tbody tr th {\n",
              "        vertical-align: top;\n",
              "    }\n",
              "\n",
              "    .dataframe thead th {\n",
              "        text-align: right;\n",
              "    }\n",
              "</style>\n",
              "<table border=\"1\" class=\"dataframe\">\n",
              "  <thead>\n",
              "    <tr style=\"text-align: right;\">\n",
              "      <th></th>\n",
              "      <th>NAME</th>\n",
              "      <th>AGE</th>\n",
              "      <th>GRADES</th>\n",
              "    </tr>\n",
              "  </thead>\n",
              "  <tbody>\n",
              "    <tr>\n",
              "      <th>3</th>\n",
              "      <td>MOIN</td>\n",
              "      <td>31</td>\n",
              "      <td>99</td>\n",
              "    </tr>\n",
              "    <tr>\n",
              "      <th>0</th>\n",
              "      <td>HASHAM</td>\n",
              "      <td>22</td>\n",
              "      <td>88</td>\n",
              "    </tr>\n",
              "    <tr>\n",
              "      <th>2</th>\n",
              "      <td>AMIN</td>\n",
              "      <td>50</td>\n",
              "      <td>66</td>\n",
              "    </tr>\n",
              "    <tr>\n",
              "      <th>1</th>\n",
              "      <td>AZHAR</td>\n",
              "      <td>22</td>\n",
              "      <td>55</td>\n",
              "    </tr>\n",
              "  </tbody>\n",
              "</table>\n",
              "</div>"
            ],
            "text/plain": [
              "     NAME  AGE  GRADES\n",
              "3    MOIN   31      99\n",
              "0  HASHAM   22      88\n",
              "2    AMIN   50      66\n",
              "1   AZHAR   22      55"
            ]
          },
          "metadata": {
            "tags": []
          },
          "execution_count": 11
        }
      ]
    },
    {
      "cell_type": "code",
      "metadata": {
        "id": "VuSuEeDVOrsK"
      },
      "source": [
        ""
      ],
      "execution_count": null,
      "outputs": []
    },
    {
      "cell_type": "code",
      "metadata": {
        "id": "l3VfCd6cOrzk"
      },
      "source": [
        ""
      ],
      "execution_count": null,
      "outputs": []
    },
    {
      "cell_type": "code",
      "metadata": {
        "id": "UUqB_8j9Or60"
      },
      "source": [
        ""
      ],
      "execution_count": null,
      "outputs": []
    }
  ]
}